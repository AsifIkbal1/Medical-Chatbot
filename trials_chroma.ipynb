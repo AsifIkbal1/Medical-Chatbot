{
 "cells": [
  {
   "cell_type": "code",
   "execution_count": null,
   "id": "798876c4",
   "metadata": {},
   "outputs": [],
   "source": [
    "# ✅ ChromaDB-based setup (Pinecone removed)\n",
    "from langchain.document_loaders import PyPDFLoader\n",
    "from langchain.text_splitter import CharacterTextSplitter\n",
    "from langchain.embeddings import HuggingFaceEmbeddings\n",
    "from langchain.vectorstores import Chroma\n",
    "\n",
    "loader = PyPDFLoader(\"your_file.pdf\")  # Replace with your actual PDF\n",
    "pages = loader.load()\n",
    "\n",
    "text_splitter = CharacterTextSplitter(chunk_size=500, chunk_overlap=50)\n",
    "documents = text_splitter.split_documents(pages)\n",
    "\n",
    "embedding = HuggingFaceEmbeddings(model_name=\"all-MiniLM-L6-v2\")\n",
    "db = Chroma.from_documents(documents, embedding, persist_directory=\"./chroma_db\")\n",
    "db.persist()\n",
    "\n",
    "query = \"What is this PDF about?\"\n",
    "results = db.similarity_search(query, k=3)\n",
    "for i, doc in enumerate(results):\n",
    "    print(f\"Answer {i+1}:\\n{doc.page_content}\")\n"
   ]
  },
  {
   "cell_type": "code",
   "execution_count": null,
   "id": "ac20913b",
   "metadata": {},
   "outputs": [],
   "source": [
    "print(\"cudse re\")"
   ]
  },
  {
   "cell_type": "code",
   "execution_count": null,
   "id": "ae2d21fe",
   "metadata": {},
   "outputs": [],
   "source": [
    "PINECONE_API_KEY=\"pcsk_WeL7P_8nSLYQc9LhQznUSyUjyW5xcePzXysRuHqS5mhBszEMMcg427LnuQZFa1BEPXrHT\"\n",
    "PINECONE_API_ENV=\"us-east-1-aws\"\n"
   ]
  },
  {
   "cell_type": "code",
   "execution_count": null,
   "id": "feac6007",
   "metadata": {},
   "outputs": [],
   "source": [
    "def load_pdf_files(data):\n",
    "    # Load PDF files from a directory\n",
    "    loader = DirectoryLoader(data,\n",
    "                             glob=\"*.pdf\",\n",
    "                             loader_cls=PyPDFLoader )   \n",
    "    documents = loader.load()\n",
    "    return documents"
   ]
  },
  {
   "cell_type": "code",
   "execution_count": null,
   "id": "157dc157",
   "metadata": {},
   "outputs": [],
   "source": [
    "extracted_data=load_pdf_files(\"data\")"
   ]
  },
  {
   "cell_type": "code",
   "execution_count": null,
   "id": "b3213be4",
   "metadata": {},
   "outputs": [],
   "source": [
    "#extracted_data"
   ]
  },
  {
   "cell_type": "code",
   "execution_count": null,
   "id": "95c1d533",
   "metadata": {},
   "outputs": [],
   "source": [
    "def text_splitter(extracted_data):\n",
    "    # Split the text into smaller chunks\n",
    "    text_splitter = RecursiveCharacterTextSplitter(\n",
    "        chunk_size=500,\n",
    "        chunk_overlap=20,\n",
    "        \n",
    "    )\n",
    "    text_chunks=text_splitter.split_documents(extracted_data)\n",
    "    return text_chunks"
   ]
  },
  {
   "cell_type": "code",
   "execution_count": null,
   "id": "71f3b44d",
   "metadata": {},
   "outputs": [],
   "source": [
    "text_chunks=text_splitter(extracted_data)\n",
    "print(\"length of text chunks\",len(text_chunks))"
   ]
  },
  {
   "cell_type": "code",
   "execution_count": null,
   "id": "43f11512",
   "metadata": {},
   "outputs": [],
   "source": [
    "def download_huggingface_embeddings():\n",
    "    # Download the Hugging Face embeddings\n",
    "    embeddings = HuggingFaceEmbeddings(\n",
    "        model_name=\"sentence-transformers/all-MiniLM-L6-v2\",\n",
    "        #model_kwargs={\"device\": \"cpu\"}\n",
    "    )\n",
    "    return embeddings"
   ]
  },
  {
   "cell_type": "code",
   "execution_count": null,
   "id": "b3e748df",
   "metadata": {},
   "outputs": [],
   "source": [
    "embeddings=download_huggingface_embeddings()"
   ]
  },
  {
   "cell_type": "code",
   "execution_count": null,
   "id": "9aac678a",
   "metadata": {},
   "outputs": [],
   "source": [
    "embeddings"
   ]
  },
  {
   "cell_type": "code",
   "execution_count": null,
   "id": "c5f63d19",
   "metadata": {},
   "outputs": [],
   "source": [
    "query_ersult=embeddings.embed_query(\"What is the capital of France?\")\n",
    "print(\"Length\",len(query_ersult))"
   ]
  },
  {
   "cell_type": "code",
   "execution_count": null,
   "id": "46b0c24c",
   "metadata": {},
   "outputs": [],
   "source": [
    "#query_ersult"
   ]
  },
  {
   "cell_type": "code",
   "execution_count": null,
   "id": "396bbe76",
   "metadata": {},
   "outputs": [],
   "source": []
  }
 ],
 "metadata": {
  "kernelspec": {
   "display_name": "mchatbot",
   "language": "python",
   "name": "python3"
  },
  "language_info": {
   "codemirror_mode": {
    "name": "ipython",
    "version": 3
   },
   "file_extension": ".py",
   "mimetype": "text/x-python",
   "name": "python",
   "nbconvert_exporter": "python",
   "pygments_lexer": "ipython3",
   "version": "3.8.20"
  }
 },
 "nbformat": 4,
 "nbformat_minor": 5
}
